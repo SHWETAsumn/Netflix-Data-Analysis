{
 "cells": [
  {
   "cell_type": "code",
   "execution_count": 1,
   "id": "b37060bd",
   "metadata": {},
   "outputs": [],
   "source": [
    "import pandas as pd\n",
    "import numpy as np"
   ]
  },
  {
   "cell_type": "code",
   "execution_count": 2,
   "id": "e6162a49",
   "metadata": {},
   "outputs": [],
   "source": [
    "df = pd.read_csv(\"netflix_titles.csv\")"
   ]
  },
  {
   "cell_type": "code",
   "execution_count": 3,
   "id": "b4330ea6",
   "metadata": {},
   "outputs": [
    {
     "data": {
      "text/html": [
       "<div>\n",
       "<style scoped>\n",
       "    .dataframe tbody tr th:only-of-type {\n",
       "        vertical-align: middle;\n",
       "    }\n",
       "\n",
       "    .dataframe tbody tr th {\n",
       "        vertical-align: top;\n",
       "    }\n",
       "\n",
       "    .dataframe thead th {\n",
       "        text-align: right;\n",
       "    }\n",
       "</style>\n",
       "<table border=\"1\" class=\"dataframe\">\n",
       "  <thead>\n",
       "    <tr style=\"text-align: right;\">\n",
       "      <th></th>\n",
       "      <th>show_id</th>\n",
       "      <th>type</th>\n",
       "      <th>title</th>\n",
       "      <th>director</th>\n",
       "      <th>cast</th>\n",
       "      <th>country</th>\n",
       "      <th>date_added</th>\n",
       "      <th>release_year</th>\n",
       "      <th>rating</th>\n",
       "      <th>duration</th>\n",
       "      <th>listed_in</th>\n",
       "      <th>description</th>\n",
       "    </tr>\n",
       "  </thead>\n",
       "  <tbody>\n",
       "    <tr>\n",
       "      <th>1987</th>\n",
       "      <td>s1988</td>\n",
       "      <td>Movie</td>\n",
       "      <td>Residue</td>\n",
       "      <td>Merawi Gerima</td>\n",
       "      <td>Obinna Nwachukwu, Dennis Lindsey, Taline Stewa...</td>\n",
       "      <td>United States</td>\n",
       "      <td>September 17, 2020</td>\n",
       "      <td>2020</td>\n",
       "      <td>TV-MA</td>\n",
       "      <td>90 min</td>\n",
       "      <td>Dramas, Independent Movies</td>\n",
       "      <td>A young screenwriter returns to his hometown t...</td>\n",
       "    </tr>\n",
       "    <tr>\n",
       "      <th>2941</th>\n",
       "      <td>s2942</td>\n",
       "      <td>TV Show</td>\n",
       "      <td>Locke &amp; Key</td>\n",
       "      <td>NaN</td>\n",
       "      <td>Darby Stanchfield, Connor Jessup, Emilia Jones...</td>\n",
       "      <td>Canada, United States</td>\n",
       "      <td>February 7, 2020</td>\n",
       "      <td>2020</td>\n",
       "      <td>TV-14</td>\n",
       "      <td>1 Season</td>\n",
       "      <td>TV Action &amp; Adventure, TV Dramas, TV Mysteries</td>\n",
       "      <td>After their dad's murder, three siblings move ...</td>\n",
       "    </tr>\n",
       "    <tr>\n",
       "      <th>8417</th>\n",
       "      <td>s8418</td>\n",
       "      <td>Movie</td>\n",
       "      <td>The Mayo Clinic</td>\n",
       "      <td>Ken Burns, Christopher Loren Ewers, Erik Ewers</td>\n",
       "      <td>Peter Coyote</td>\n",
       "      <td>United States</td>\n",
       "      <td>April 19, 2019</td>\n",
       "      <td>2018</td>\n",
       "      <td>TV-14</td>\n",
       "      <td>116 min</td>\n",
       "      <td>Documentaries</td>\n",
       "      <td>A look at how a world-renowned medical institu...</td>\n",
       "    </tr>\n",
       "    <tr>\n",
       "      <th>1702</th>\n",
       "      <td>s1703</td>\n",
       "      <td>Movie</td>\n",
       "      <td>Fukrey Boyzzz: Space Mein Fukrapanti</td>\n",
       "      <td>Avinash Walzade</td>\n",
       "      <td>Viraaj Modgill, Jasleen Singh, Pooja Punjabi, ...</td>\n",
       "      <td>India</td>\n",
       "      <td>November 13, 2020</td>\n",
       "      <td>2020</td>\n",
       "      <td>TV-Y7</td>\n",
       "      <td>75 min</td>\n",
       "      <td>Children &amp; Family Movies, Comedies</td>\n",
       "      <td>After a foreboding dream about aliens comes tr...</td>\n",
       "    </tr>\n",
       "    <tr>\n",
       "      <th>3226</th>\n",
       "      <td>s3227</td>\n",
       "      <td>Movie</td>\n",
       "      <td>The Body Remembers When the World Broke Open</td>\n",
       "      <td>Elle-Máijá Tailfeathers, Kathleen Hepburn</td>\n",
       "      <td>Violet Nelson, Elle-Máijá Tailfeathers, Charli...</td>\n",
       "      <td>Canada, Norway</td>\n",
       "      <td>November 27, 2019</td>\n",
       "      <td>2019</td>\n",
       "      <td>TV-MA</td>\n",
       "      <td>106 min</td>\n",
       "      <td>Dramas, Independent Movies</td>\n",
       "      <td>After a traumatic event, two Indigenous women ...</td>\n",
       "    </tr>\n",
       "  </tbody>\n",
       "</table>\n",
       "</div>"
      ],
      "text/plain": [
       "     show_id     type                                         title  \\\n",
       "1987   s1988    Movie                                       Residue   \n",
       "2941   s2942  TV Show                                   Locke & Key   \n",
       "8417   s8418    Movie                               The Mayo Clinic   \n",
       "1702   s1703    Movie          Fukrey Boyzzz: Space Mein Fukrapanti   \n",
       "3226   s3227    Movie  The Body Remembers When the World Broke Open   \n",
       "\n",
       "                                            director  \\\n",
       "1987                                   Merawi Gerima   \n",
       "2941                                             NaN   \n",
       "8417  Ken Burns, Christopher Loren Ewers, Erik Ewers   \n",
       "1702                                 Avinash Walzade   \n",
       "3226       Elle-Máijá Tailfeathers, Kathleen Hepburn   \n",
       "\n",
       "                                                   cast  \\\n",
       "1987  Obinna Nwachukwu, Dennis Lindsey, Taline Stewa...   \n",
       "2941  Darby Stanchfield, Connor Jessup, Emilia Jones...   \n",
       "8417                                       Peter Coyote   \n",
       "1702  Viraaj Modgill, Jasleen Singh, Pooja Punjabi, ...   \n",
       "3226  Violet Nelson, Elle-Máijá Tailfeathers, Charli...   \n",
       "\n",
       "                    country          date_added  release_year rating  \\\n",
       "1987          United States  September 17, 2020          2020  TV-MA   \n",
       "2941  Canada, United States    February 7, 2020          2020  TV-14   \n",
       "8417          United States      April 19, 2019          2018  TV-14   \n",
       "1702                  India   November 13, 2020          2020  TV-Y7   \n",
       "3226         Canada, Norway   November 27, 2019          2019  TV-MA   \n",
       "\n",
       "      duration                                       listed_in  \\\n",
       "1987    90 min                      Dramas, Independent Movies   \n",
       "2941  1 Season  TV Action & Adventure, TV Dramas, TV Mysteries   \n",
       "8417   116 min                                   Documentaries   \n",
       "1702    75 min              Children & Family Movies, Comedies   \n",
       "3226   106 min                      Dramas, Independent Movies   \n",
       "\n",
       "                                            description  \n",
       "1987  A young screenwriter returns to his hometown t...  \n",
       "2941  After their dad's murder, three siblings move ...  \n",
       "8417  A look at how a world-renowned medical institu...  \n",
       "1702  After a foreboding dream about aliens comes tr...  \n",
       "3226  After a traumatic event, two Indigenous women ...  "
      ]
     },
     "execution_count": 3,
     "metadata": {},
     "output_type": "execute_result"
    }
   ],
   "source": [
    "# to see some sample data\n",
    "df.sample(5)"
   ]
  },
  {
   "cell_type": "code",
   "execution_count": 4,
   "id": "0b0e9058",
   "metadata": {},
   "outputs": [
    {
     "data": {
      "text/plain": [
       "(8807, 12)"
      ]
     },
     "execution_count": 4,
     "metadata": {},
     "output_type": "execute_result"
    }
   ],
   "source": [
    "df.shape"
   ]
  },
  {
   "cell_type": "code",
   "execution_count": 6,
   "id": "6b7e2f41",
   "metadata": {},
   "outputs": [
    {
     "name": "stdout",
     "output_type": "stream",
     "text": [
      "<class 'pandas.core.frame.DataFrame'>\n",
      "RangeIndex: 8807 entries, 0 to 8806\n",
      "Data columns (total 12 columns):\n",
      " #   Column        Non-Null Count  Dtype \n",
      "---  ------        --------------  ----- \n",
      " 0   show_id       8807 non-null   object\n",
      " 1   type          8807 non-null   object\n",
      " 2   title         8807 non-null   object\n",
      " 3   director      6173 non-null   object\n",
      " 4   cast          7982 non-null   object\n",
      " 5   country       7976 non-null   object\n",
      " 6   date_added    8797 non-null   object\n",
      " 7   release_year  8807 non-null   int64 \n",
      " 8   rating        8803 non-null   object\n",
      " 9   duration      8804 non-null   object\n",
      " 10  listed_in     8807 non-null   object\n",
      " 11  description   8807 non-null   object\n",
      "dtypes: int64(1), object(11)\n",
      "memory usage: 825.8+ KB\n"
     ]
    }
   ],
   "source": [
    "\n",
    "df.info()"
   ]
  },
  {
   "cell_type": "code",
   "execution_count": 7,
   "id": "f30f112a",
   "metadata": {},
   "outputs": [
    {
     "data": {
      "text/plain": [
       "show_id            0\n",
       "type               0\n",
       "title              0\n",
       "director        2634\n",
       "cast             825\n",
       "country          831\n",
       "date_added        10\n",
       "release_year       0\n",
       "rating             4\n",
       "duration           3\n",
       "listed_in          0\n",
       "description        0\n",
       "dtype: int64"
      ]
     },
     "execution_count": 7,
     "metadata": {},
     "output_type": "execute_result"
    }
   ],
   "source": [
    "# sum of null values\n",
    "df.isna().sum()"
   ]
  },
  {
   "cell_type": "markdown",
   "id": "9cff9255",
   "metadata": {},
   "source": [
    "### Data Cleaning \n"
   ]
  },
  {
   "cell_type": "markdown",
   "id": "9134065a",
   "metadata": {},
   "source": [
    "1.) remove unnecessary column -> \"show_id\" and \"description\"\n",
    "\n",
    "2.) Check for Null values\n",
    "\n",
    "3.) To eal with null values we can give default values, calculated values or we can remove values. ( choose according to requirement)\n",
    "\n",
    "    a.) \"director\" - will replace null value with default value \"Not mentioned\".\n",
    "    b.) \"cast\" - will replace null value with default value \"Not mentioned\".\n",
    "    c.) \"country\" - will replace null value with MODE (most common) value.\n",
    "    d.) \"date_added\" - will replace null value with MODE (most common) value.\n",
    "    e.) \"duration\" - will replace null value with MODE (most common) value.\n",
    "    f.) \"rating\" - have wrong value so, will delete those values.\n",
    "    \n",
    "4.) Extract year, month and date from date column.\n",
    "\n",
    "5.) listed_in column have so many values so, will split the value and change column name as genre.\n",
    "    \n",
    "6.) Cast column have many values separated by commas but we want to show only the first value of this column as lead_actor.\n",
    "\n"
   ]
  },
  {
   "cell_type": "code",
   "execution_count": 8,
   "id": "e2447d1d",
   "metadata": {},
   "outputs": [],
   "source": [
    "df.drop([\"show_id\",\"description\"], axis=1, inplace = True)"
   ]
  },
  {
   "cell_type": "code",
   "execution_count": 9,
   "id": "7b610d37",
   "metadata": {},
   "outputs": [],
   "source": [
    "# To see values of column\n",
    "df[\"director\"].value_counts().head(3)\n",
    "\n",
    "# Replace Null value with default value\n",
    "df[\"director\"] = df[\"director\"].fillna(\"Not mentioned\")"
   ]
  },
  {
   "cell_type": "code",
   "execution_count": 10,
   "id": "1a501c11",
   "metadata": {},
   "outputs": [
    {
     "data": {
      "text/plain": [
       "np.int64(0)"
      ]
     },
     "execution_count": 10,
     "metadata": {},
     "output_type": "execute_result"
    }
   ],
   "source": [
    "# Check Null value has been replaced or not\n",
    "df[\"director\"].isna().sum()"
   ]
  },
  {
   "cell_type": "code",
   "execution_count": 11,
   "id": "75970fb0",
   "metadata": {},
   "outputs": [],
   "source": [
    "# To see values of column\n",
    "df[\"cast\"].value_counts().head(3)\n",
    "\n",
    "# Replace Null value with default value\n",
    "df[\"cast\"] = df[\"cast\"].fillna(\"Not mentioned\")"
   ]
  },
  {
   "cell_type": "code",
   "execution_count": 12,
   "id": "ebf18e15",
   "metadata": {},
   "outputs": [
    {
     "data": {
      "text/plain": [
       "np.int64(0)"
      ]
     },
     "execution_count": 12,
     "metadata": {},
     "output_type": "execute_result"
    }
   ],
   "source": [
    "# Check Null value has been replaced or not\n",
    "df[\"cast\"].isna().sum()"
   ]
  },
  {
   "cell_type": "code",
   "execution_count": 13,
   "id": "a403674f",
   "metadata": {},
   "outputs": [],
   "source": [
    "# To see values of column\n",
    "df[\"country\"].value_counts().head(3)\n",
    "# Check the MODE value\n",
    "mode_country = df[\"country\"].mode()[0]\n",
    "mode_country\n",
    "\n",
    "# Replace Null value with MODE value\n",
    "df[\"country\"] = df[\"country\"].fillna(mode_country)"
   ]
  },
  {
   "cell_type": "code",
   "execution_count": 14,
   "id": "0aa05253",
   "metadata": {},
   "outputs": [
    {
     "data": {
      "text/plain": [
       "np.int64(0)"
      ]
     },
     "execution_count": 14,
     "metadata": {},
     "output_type": "execute_result"
    }
   ],
   "source": [
    "# Check Null value has been replaced or not\n",
    "df[\"country\"].isna().sum()"
   ]
  },
  {
   "cell_type": "code",
   "execution_count": 15,
   "id": "0fb79ac6",
   "metadata": {},
   "outputs": [],
   "source": [
    "# To see values of column\n",
    "df[\"date_added\"].value_counts().head(3)\n",
    "# Check the MODE value\n",
    "mode_date = df[\"date_added\"].mode()[0]\n",
    "mode_date\n",
    "\n",
    "# Replace Null value with MODE value\n",
    "df[\"date_added\"] = df[\"date_added\"].fillna(mode_date)"
   ]
  },
  {
   "cell_type": "code",
   "execution_count": 17,
   "id": "8b5c5659",
   "metadata": {},
   "outputs": [
    {
     "data": {
      "text/plain": [
       "np.int64(0)"
      ]
     },
     "execution_count": 17,
     "metadata": {},
     "output_type": "execute_result"
    }
   ],
   "source": [
    "# Check Null value has been replaced or not\n",
    "df[\"date_added\"].isna().sum()"
   ]
  },
  {
   "cell_type": "code",
   "execution_count": 18,
   "id": "80c275bb",
   "metadata": {},
   "outputs": [],
   "source": [
    "# To see values of column\n",
    "df[\"duration\"].value_counts().head(3)\n",
    "# Check the MODE value\n",
    "mode_duration = df[\"duration\"].mode()[0]\n",
    "mode_duration\n",
    "\n",
    "# Replace Null value with MODE value\n",
    "df[\"duration\"] = df[\"duration\"].fillna(mode_duration)"
   ]
  },
  {
   "cell_type": "code",
   "execution_count": 19,
   "id": "a49f28ae",
   "metadata": {},
   "outputs": [
    {
     "data": {
      "text/plain": [
       "np.int64(0)"
      ]
     },
     "execution_count": 19,
     "metadata": {},
     "output_type": "execute_result"
    }
   ],
   "source": [
    "# Check Null value has been replaced or not\n",
    "df[\"duration\"].isna().sum()"
   ]
  },
  {
   "cell_type": "code",
   "execution_count": 20,
   "id": "7066c7df",
   "metadata": {},
   "outputs": [
    {
     "data": {
      "text/plain": [
       "array(['PG-13', 'TV-MA', 'PG', 'TV-14', 'TV-PG', 'TV-Y', 'TV-Y7', 'R',\n",
       "       'TV-G', 'G', 'NC-17', '74 min', '84 min', '66 min', 'NR', nan,\n",
       "       'TV-Y7-FV', 'UR'], dtype=object)"
      ]
     },
     "execution_count": 20,
     "metadata": {},
     "output_type": "execute_result"
    }
   ],
   "source": [
    "# To see unique values of column\n",
    "df[\"rating\"].unique()\n"
   ]
  },
  {
   "cell_type": "code",
   "execution_count": 21,
   "id": "20084d9a",
   "metadata": {},
   "outputs": [],
   "source": [
    "mode_rating=df[\"rating\"].mode()[0]"
   ]
  },
  {
   "cell_type": "code",
   "execution_count": 22,
   "id": "5cd9f8a3",
   "metadata": {},
   "outputs": [
    {
     "data": {
      "text/plain": [
       "'TV-MA'"
      ]
     },
     "execution_count": 22,
     "metadata": {},
     "output_type": "execute_result"
    }
   ],
   "source": [
    "mode_rating"
   ]
  },
  {
   "cell_type": "code",
   "execution_count": 23,
   "id": "15b38fcd",
   "metadata": {},
   "outputs": [],
   "source": [
    "df[\"rating\"]=df[\"rating\"].fillna(mode_rating)"
   ]
  },
  {
   "cell_type": "code",
   "execution_count": 24,
   "id": "2789d4e3",
   "metadata": {},
   "outputs": [
    {
     "data": {
      "text/plain": [
       "np.int64(0)"
      ]
     },
     "execution_count": 24,
     "metadata": {},
     "output_type": "execute_result"
    }
   ],
   "source": [
    "df[\"rating\"].isna().sum()"
   ]
  },
  {
   "cell_type": "code",
   "execution_count": null,
   "id": "d67f5376",
   "metadata": {},
   "outputs": [
    {
     "data": {
      "text/plain": [
       "array(['PG-13', 'TV-MA', 'PG', 'TV-14', 'TV-PG', 'TV-Y', 'TV-Y7', 'R',\n",
       "       'TV-G', 'G', 'NC-17', '74 min', '84 min', '66 min', 'NR',\n",
       "       'TV-Y7-FV', 'UR'], dtype=object)"
      ]
     },
     "execution_count": 25,
     "metadata": {},
     "output_type": "execute_result"
    }
   ],
   "source": [
    "df[\"rating\"].unique()\n",
    "# we can see rating column have some wrong values like (74 min, 84 min, 66 min). "
   ]
  },
  {
   "cell_type": "code",
   "execution_count": null,
   "id": "eb73d4eb",
   "metadata": {},
   "outputs": [],
   "source": [
    "# To deal with this we will delete wrong values\n",
    "df= df[~df[\"rating\"].str.contains(\"min\")]"
   ]
  },
  {
   "cell_type": "code",
   "execution_count": 27,
   "id": "74bcb6c5",
   "metadata": {},
   "outputs": [
    {
     "data": {
      "text/plain": [
       "array(['PG-13', 'TV-MA', 'PG', 'TV-14', 'TV-PG', 'TV-Y', 'TV-Y7', 'R',\n",
       "       'TV-G', 'G', 'NC-17', 'NR', 'TV-Y7-FV', 'UR'], dtype=object)"
      ]
     },
     "execution_count": 27,
     "metadata": {},
     "output_type": "execute_result"
    }
   ],
   "source": [
    "df[\"rating\"].unique()"
   ]
  },
  {
   "cell_type": "code",
   "execution_count": 28,
   "id": "85bb2198",
   "metadata": {},
   "outputs": [
    {
     "data": {
      "text/plain": [
       "np.int64(0)"
      ]
     },
     "execution_count": 28,
     "metadata": {},
     "output_type": "execute_result"
    }
   ],
   "source": [
    "# Check Null value has been replaced or not\n",
    "df[\"rating\"].isna().sum()"
   ]
  },
  {
   "cell_type": "code",
   "execution_count": 29,
   "id": "d6c7dac6",
   "metadata": {},
   "outputs": [
    {
     "data": {
      "text/plain": [
       "type            0\n",
       "title           0\n",
       "director        0\n",
       "cast            0\n",
       "country         0\n",
       "date_added      0\n",
       "release_year    0\n",
       "rating          0\n",
       "duration        0\n",
       "listed_in       0\n",
       "dtype: int64"
      ]
     },
     "execution_count": 29,
     "metadata": {},
     "output_type": "execute_result"
    }
   ],
   "source": [
    "# Again will check for null value in whole data\n",
    "df.isna().sum()"
   ]
  },
  {
   "cell_type": "markdown",
   "id": "f26b8fbe",
   "metadata": {},
   "source": [
    "### date_added column\n",
    "\n",
    "In date_aded column we have comma (,) in between date format and we will extract year, month and date from date column.\n",
    "So, that comma needs to be removed."
   ]
  },
  {
   "cell_type": "code",
   "execution_count": 30,
   "id": "1854ba02",
   "metadata": {},
   "outputs": [
    {
     "data": {
      "text/plain": [
       "array(['September 25, 2021', 'September 24, 2021', 'September 23, 2021',\n",
       "       ..., 'December 6, 2018', 'March 9, 2016', 'January 11, 2020'],\n",
       "      shape=(1766,), dtype=object)"
      ]
     },
     "execution_count": 30,
     "metadata": {},
     "output_type": "execute_result"
    }
   ],
   "source": [
    "df[\"date_added\"].unique()"
   ]
  },
  {
   "cell_type": "code",
   "execution_count": 31,
   "id": "988e5e59",
   "metadata": {},
   "outputs": [
    {
     "name": "stderr",
     "output_type": "stream",
     "text": [
      "C:\\Users\\SHWESUMA\\AppData\\Local\\Temp\\ipykernel_6388\\2910175374.py:1: SettingWithCopyWarning: \n",
      "A value is trying to be set on a copy of a slice from a DataFrame.\n",
      "Try using .loc[row_indexer,col_indexer] = value instead\n",
      "\n",
      "See the caveats in the documentation: https://pandas.pydata.org/pandas-docs/stable/user_guide/indexing.html#returning-a-view-versus-a-copy\n",
      "  df[\"date_added\"] = df[\"date_added\"].str.replace(\",\",\"\")\n"
     ]
    }
   ],
   "source": [
    "df[\"date_added\"] = df[\"date_added\"].str.replace(\",\",\"\")"
   ]
  },
  {
   "cell_type": "code",
   "execution_count": 32,
   "id": "1a59a6cc",
   "metadata": {},
   "outputs": [
    {
     "data": {
      "text/plain": [
       "array(['September 25 2021', 'September 24 2021', 'September 23 2021', ...,\n",
       "       'December 6 2018', 'March 9 2016', 'January 11 2020'],\n",
       "      shape=(1766,), dtype=object)"
      ]
     },
     "execution_count": 32,
     "metadata": {},
     "output_type": "execute_result"
    }
   ],
   "source": [
    "df[\"date_added\"].unique()"
   ]
  },
  {
   "cell_type": "code",
   "execution_count": 33,
   "id": "a334d8fe",
   "metadata": {},
   "outputs": [
    {
     "name": "stderr",
     "output_type": "stream",
     "text": [
      "C:\\Users\\SHWESUMA\\AppData\\Local\\Temp\\ipykernel_6388\\2193307499.py:3: SettingWithCopyWarning: \n",
      "A value is trying to be set on a copy of a slice from a DataFrame.\n",
      "Try using .loc[row_indexer,col_indexer] = value instead\n",
      "\n",
      "See the caveats in the documentation: https://pandas.pydata.org/pandas-docs/stable/user_guide/indexing.html#returning-a-view-versus-a-copy\n",
      "  df[\"date_added\"] = pd.to_datetime(df[\"date_added\"], format=\"mixed\")\n"
     ]
    }
   ],
   "source": [
    "# The output will be a DataFrame with the date_added column converted to datetime format, handling the mixed date formats.\n",
    "\n",
    "df[\"date_added\"] = pd.to_datetime(df[\"date_added\"], format=\"mixed\")"
   ]
  },
  {
   "cell_type": "code",
   "execution_count": 34,
   "id": "43ce3fa7",
   "metadata": {},
   "outputs": [
    {
     "data": {
      "text/plain": [
       "<DatetimeArray>\n",
       "['2021-09-25 00:00:00', '2021-09-24 00:00:00', '2021-09-23 00:00:00',\n",
       " '2021-09-22 00:00:00', '2021-09-21 00:00:00', '2021-09-20 00:00:00',\n",
       " '2021-09-19 00:00:00', '2021-09-17 00:00:00', '2021-09-16 00:00:00',\n",
       " '2021-09-15 00:00:00',\n",
       " ...\n",
       " '2018-09-27 00:00:00', '2017-03-23 00:00:00', '2016-12-25 00:00:00',\n",
       " '2016-11-30 00:00:00', '2017-10-23 00:00:00', '2017-11-04 00:00:00',\n",
       " '2015-08-05 00:00:00', '2018-12-06 00:00:00', '2016-03-09 00:00:00',\n",
       " '2020-01-11 00:00:00']\n",
       "Length: 1714, dtype: datetime64[ns]"
      ]
     },
     "execution_count": 34,
     "metadata": {},
     "output_type": "execute_result"
    }
   ],
   "source": [
    "df[\"date_added\"].unique()"
   ]
  },
  {
   "cell_type": "code",
   "execution_count": 35,
   "id": "749b4862",
   "metadata": {},
   "outputs": [
    {
     "name": "stderr",
     "output_type": "stream",
     "text": [
      "C:\\Users\\SHWESUMA\\AppData\\Local\\Temp\\ipykernel_6388\\2047218167.py:1: SettingWithCopyWarning: \n",
      "A value is trying to be set on a copy of a slice from a DataFrame.\n",
      "Try using .loc[row_indexer,col_indexer] = value instead\n",
      "\n",
      "See the caveats in the documentation: https://pandas.pydata.org/pandas-docs/stable/user_guide/indexing.html#returning-a-view-versus-a-copy\n",
      "  df[\"year\"] = df[\"date_added\"].dt.year\n"
     ]
    }
   ],
   "source": [
    "\n",
    "df[\"year\"] = df[\"date_added\"].dt.year\n"
   ]
  },
  {
   "cell_type": "code",
   "execution_count": 36,
   "id": "32cc76e3",
   "metadata": {},
   "outputs": [
    {
     "name": "stderr",
     "output_type": "stream",
     "text": [
      "C:\\Users\\SHWESUMA\\AppData\\Local\\Temp\\ipykernel_6388\\1893636164.py:1: SettingWithCopyWarning: \n",
      "A value is trying to be set on a copy of a slice from a DataFrame.\n",
      "Try using .loc[row_indexer,col_indexer] = value instead\n",
      "\n",
      "See the caveats in the documentation: https://pandas.pydata.org/pandas-docs/stable/user_guide/indexing.html#returning-a-view-versus-a-copy\n",
      "  df[\"month\"] = df[\"date_added\"].dt.month\n"
     ]
    }
   ],
   "source": [
    "df[\"month\"] = df[\"date_added\"].dt.month\n"
   ]
  },
  {
   "cell_type": "code",
   "execution_count": 37,
   "id": "7f230c4c",
   "metadata": {},
   "outputs": [
    {
     "name": "stderr",
     "output_type": "stream",
     "text": [
      "C:\\Users\\SHWESUMA\\AppData\\Local\\Temp\\ipykernel_6388\\4063146428.py:1: SettingWithCopyWarning: \n",
      "A value is trying to be set on a copy of a slice from a DataFrame.\n",
      "Try using .loc[row_indexer,col_indexer] = value instead\n",
      "\n",
      "See the caveats in the documentation: https://pandas.pydata.org/pandas-docs/stable/user_guide/indexing.html#returning-a-view-versus-a-copy\n",
      "  df[\"day\"] = df[\"date_added\"].dt.day\n"
     ]
    }
   ],
   "source": [
    "\n",
    "df[\"day\"] = df[\"date_added\"].dt.day"
   ]
  },
  {
   "cell_type": "code",
   "execution_count": 38,
   "id": "11916d3e",
   "metadata": {},
   "outputs": [
    {
     "data": {
      "text/plain": [
       "type            0\n",
       "title           0\n",
       "director        0\n",
       "cast            0\n",
       "country         0\n",
       "date_added      0\n",
       "release_year    0\n",
       "rating          0\n",
       "duration        0\n",
       "listed_in       0\n",
       "year            0\n",
       "month           0\n",
       "day             0\n",
       "dtype: int64"
      ]
     },
     "execution_count": 38,
     "metadata": {},
     "output_type": "execute_result"
    }
   ],
   "source": [
    "df.isna().sum()"
   ]
  },
  {
   "cell_type": "markdown",
   "id": "4cf77ee3",
   "metadata": {},
   "source": [
    "### listed_in column\n",
    "\n",
    "Column have so many values so, will split the value and change column name."
   ]
  },
  {
   "cell_type": "code",
   "execution_count": 39,
   "id": "34620cd9",
   "metadata": {},
   "outputs": [
    {
     "name": "stderr",
     "output_type": "stream",
     "text": [
      "C:\\Users\\SHWESUMA\\AppData\\Local\\Temp\\ipykernel_6388\\3894069600.py:1: SettingWithCopyWarning: \n",
      "A value is trying to be set on a copy of a slice from a DataFrame.\n",
      "Try using .loc[row_indexer,col_indexer] = value instead\n",
      "\n",
      "See the caveats in the documentation: https://pandas.pydata.org/pandas-docs/stable/user_guide/indexing.html#returning-a-view-versus-a-copy\n",
      "  df[\"genre\"] = df[\"listed_in\"].str.split(\",\").str[0]\n"
     ]
    }
   ],
   "source": [
    "df[\"genre\"] = df[\"listed_in\"].str.split(\",\").str[0]\n"
   ]
  },
  {
   "cell_type": "code",
   "execution_count": 40,
   "id": "e64fb44e",
   "metadata": {},
   "outputs": [
    {
     "data": {
      "text/plain": [
       "genre\n",
       "Dramas                    1600\n",
       "Comedies                  1210\n",
       "Action & Adventure         859\n",
       "Documentaries              829\n",
       "International TV Shows     774\n",
       "Name: count, dtype: int64"
      ]
     },
     "execution_count": 40,
     "metadata": {},
     "output_type": "execute_result"
    }
   ],
   "source": [
    "df[\"genre\"].value_counts().head()"
   ]
  },
  {
   "cell_type": "markdown",
   "id": "142cd5a7",
   "metadata": {},
   "source": [
    "# Cast Column\n",
    "\n",
    "Cast column have many values separated by commas but we want to show only the first value of this column as lead_actor."
   ]
  },
  {
   "cell_type": "code",
   "execution_count": 42,
   "id": "56b62fb8",
   "metadata": {},
   "outputs": [],
   "source": [
    "df = df[df[\"cast\"]!=\"Not Mentioned\"]"
   ]
  },
  {
   "cell_type": "code",
   "execution_count": 44,
   "id": "89e7017c",
   "metadata": {},
   "outputs": [],
   "source": [
    "# Original cast Column: Contains strings of cast members separated by commas.\n",
    "# New lead_actor Column: Contains the first cast member from each string in the cast column.\n",
    "\n",
    "df[\"lead_actor\"] = df[\"cast\"].str.split(\",\").str[0]"
   ]
  },
  {
   "cell_type": "code",
   "execution_count": 45,
   "id": "298d0217",
   "metadata": {},
   "outputs": [
    {
     "data": {
      "text/plain": [
       "lead_actor\n",
       "Not mentioned         825\n",
       "Shah Rukh Khan         26\n",
       "Akshay Kumar           23\n",
       "David Attenborough     20\n",
       "Amitabh Bachchan       20\n",
       "Name: count, dtype: int64"
      ]
     },
     "execution_count": 45,
     "metadata": {},
     "output_type": "execute_result"
    }
   ],
   "source": [
    "df[\"lead_actor\"].value_counts().head(5)"
   ]
  },
  {
   "cell_type": "code",
   "execution_count": 46,
   "id": "ba574f56",
   "metadata": {},
   "outputs": [
    {
     "data": {
      "text/html": [
       "<div>\n",
       "<style scoped>\n",
       "    .dataframe tbody tr th:only-of-type {\n",
       "        vertical-align: middle;\n",
       "    }\n",
       "\n",
       "    .dataframe tbody tr th {\n",
       "        vertical-align: top;\n",
       "    }\n",
       "\n",
       "    .dataframe thead th {\n",
       "        text-align: right;\n",
       "    }\n",
       "</style>\n",
       "<table border=\"1\" class=\"dataframe\">\n",
       "  <thead>\n",
       "    <tr style=\"text-align: right;\">\n",
       "      <th></th>\n",
       "      <th>type</th>\n",
       "      <th>title</th>\n",
       "      <th>director</th>\n",
       "      <th>cast</th>\n",
       "      <th>country</th>\n",
       "      <th>date_added</th>\n",
       "      <th>release_year</th>\n",
       "      <th>rating</th>\n",
       "      <th>duration</th>\n",
       "      <th>listed_in</th>\n",
       "      <th>year</th>\n",
       "      <th>month</th>\n",
       "      <th>day</th>\n",
       "      <th>genre</th>\n",
       "      <th>lead_actor</th>\n",
       "    </tr>\n",
       "  </thead>\n",
       "  <tbody>\n",
       "    <tr>\n",
       "      <th>0</th>\n",
       "      <td>Movie</td>\n",
       "      <td>Dick Johnson Is Dead</td>\n",
       "      <td>Kirsten Johnson</td>\n",
       "      <td>Not mentioned</td>\n",
       "      <td>United States</td>\n",
       "      <td>2021-09-25</td>\n",
       "      <td>2020</td>\n",
       "      <td>PG-13</td>\n",
       "      <td>90 min</td>\n",
       "      <td>Documentaries</td>\n",
       "      <td>2021</td>\n",
       "      <td>9</td>\n",
       "      <td>25</td>\n",
       "      <td>Documentaries</td>\n",
       "      <td>Not mentioned</td>\n",
       "    </tr>\n",
       "    <tr>\n",
       "      <th>1</th>\n",
       "      <td>TV Show</td>\n",
       "      <td>Blood &amp; Water</td>\n",
       "      <td>Not mentioned</td>\n",
       "      <td>Ama Qamata, Khosi Ngema, Gail Mabalane, Thaban...</td>\n",
       "      <td>South Africa</td>\n",
       "      <td>2021-09-24</td>\n",
       "      <td>2021</td>\n",
       "      <td>TV-MA</td>\n",
       "      <td>2 Seasons</td>\n",
       "      <td>International TV Shows, TV Dramas, TV Mysteries</td>\n",
       "      <td>2021</td>\n",
       "      <td>9</td>\n",
       "      <td>24</td>\n",
       "      <td>International TV Shows</td>\n",
       "      <td>Ama Qamata</td>\n",
       "    </tr>\n",
       "    <tr>\n",
       "      <th>2</th>\n",
       "      <td>TV Show</td>\n",
       "      <td>Ganglands</td>\n",
       "      <td>Julien Leclercq</td>\n",
       "      <td>Sami Bouajila, Tracy Gotoas, Samuel Jouy, Nabi...</td>\n",
       "      <td>United States</td>\n",
       "      <td>2021-09-24</td>\n",
       "      <td>2021</td>\n",
       "      <td>TV-MA</td>\n",
       "      <td>1 Season</td>\n",
       "      <td>Crime TV Shows, International TV Shows, TV Act...</td>\n",
       "      <td>2021</td>\n",
       "      <td>9</td>\n",
       "      <td>24</td>\n",
       "      <td>Crime TV Shows</td>\n",
       "      <td>Sami Bouajila</td>\n",
       "    </tr>\n",
       "    <tr>\n",
       "      <th>3</th>\n",
       "      <td>TV Show</td>\n",
       "      <td>Jailbirds New Orleans</td>\n",
       "      <td>Not mentioned</td>\n",
       "      <td>Not mentioned</td>\n",
       "      <td>United States</td>\n",
       "      <td>2021-09-24</td>\n",
       "      <td>2021</td>\n",
       "      <td>TV-MA</td>\n",
       "      <td>1 Season</td>\n",
       "      <td>Docuseries, Reality TV</td>\n",
       "      <td>2021</td>\n",
       "      <td>9</td>\n",
       "      <td>24</td>\n",
       "      <td>Docuseries</td>\n",
       "      <td>Not mentioned</td>\n",
       "    </tr>\n",
       "    <tr>\n",
       "      <th>4</th>\n",
       "      <td>TV Show</td>\n",
       "      <td>Kota Factory</td>\n",
       "      <td>Not mentioned</td>\n",
       "      <td>Mayur More, Jitendra Kumar, Ranjan Raj, Alam K...</td>\n",
       "      <td>India</td>\n",
       "      <td>2021-09-24</td>\n",
       "      <td>2021</td>\n",
       "      <td>TV-MA</td>\n",
       "      <td>2 Seasons</td>\n",
       "      <td>International TV Shows, Romantic TV Shows, TV ...</td>\n",
       "      <td>2021</td>\n",
       "      <td>9</td>\n",
       "      <td>24</td>\n",
       "      <td>International TV Shows</td>\n",
       "      <td>Mayur More</td>\n",
       "    </tr>\n",
       "  </tbody>\n",
       "</table>\n",
       "</div>"
      ],
      "text/plain": [
       "      type                  title         director  \\\n",
       "0    Movie   Dick Johnson Is Dead  Kirsten Johnson   \n",
       "1  TV Show          Blood & Water    Not mentioned   \n",
       "2  TV Show              Ganglands  Julien Leclercq   \n",
       "3  TV Show  Jailbirds New Orleans    Not mentioned   \n",
       "4  TV Show           Kota Factory    Not mentioned   \n",
       "\n",
       "                                                cast        country  \\\n",
       "0                                      Not mentioned  United States   \n",
       "1  Ama Qamata, Khosi Ngema, Gail Mabalane, Thaban...   South Africa   \n",
       "2  Sami Bouajila, Tracy Gotoas, Samuel Jouy, Nabi...  United States   \n",
       "3                                      Not mentioned  United States   \n",
       "4  Mayur More, Jitendra Kumar, Ranjan Raj, Alam K...          India   \n",
       "\n",
       "  date_added  release_year rating   duration  \\\n",
       "0 2021-09-25          2020  PG-13     90 min   \n",
       "1 2021-09-24          2021  TV-MA  2 Seasons   \n",
       "2 2021-09-24          2021  TV-MA   1 Season   \n",
       "3 2021-09-24          2021  TV-MA   1 Season   \n",
       "4 2021-09-24          2021  TV-MA  2 Seasons   \n",
       "\n",
       "                                           listed_in  year  month  day  \\\n",
       "0                                      Documentaries  2021      9   25   \n",
       "1    International TV Shows, TV Dramas, TV Mysteries  2021      9   24   \n",
       "2  Crime TV Shows, International TV Shows, TV Act...  2021      9   24   \n",
       "3                             Docuseries, Reality TV  2021      9   24   \n",
       "4  International TV Shows, Romantic TV Shows, TV ...  2021      9   24   \n",
       "\n",
       "                    genre     lead_actor  \n",
       "0           Documentaries  Not mentioned  \n",
       "1  International TV Shows     Ama Qamata  \n",
       "2          Crime TV Shows  Sami Bouajila  \n",
       "3              Docuseries  Not mentioned  \n",
       "4  International TV Shows     Mayur More  "
      ]
     },
     "execution_count": 46,
     "metadata": {},
     "output_type": "execute_result"
    }
   ],
   "source": [
    "df.head()"
   ]
  },
  {
   "cell_type": "code",
   "execution_count": 47,
   "id": "43e529b0",
   "metadata": {},
   "outputs": [],
   "source": [
    "#   Drop unnecessary columns\n",
    "\n",
    "df.drop([\"date_added\", \"listed_in\", \"cast\"], axis=1, inplace = True)"
   ]
  },
  {
   "cell_type": "code",
   "execution_count": 48,
   "id": "ee3db2c3",
   "metadata": {},
   "outputs": [
    {
     "data": {
      "text/html": [
       "<div>\n",
       "<style scoped>\n",
       "    .dataframe tbody tr th:only-of-type {\n",
       "        vertical-align: middle;\n",
       "    }\n",
       "\n",
       "    .dataframe tbody tr th {\n",
       "        vertical-align: top;\n",
       "    }\n",
       "\n",
       "    .dataframe thead th {\n",
       "        text-align: right;\n",
       "    }\n",
       "</style>\n",
       "<table border=\"1\" class=\"dataframe\">\n",
       "  <thead>\n",
       "    <tr style=\"text-align: right;\">\n",
       "      <th></th>\n",
       "      <th>type</th>\n",
       "      <th>title</th>\n",
       "      <th>director</th>\n",
       "      <th>country</th>\n",
       "      <th>release_year</th>\n",
       "      <th>rating</th>\n",
       "      <th>duration</th>\n",
       "      <th>year</th>\n",
       "      <th>month</th>\n",
       "      <th>day</th>\n",
       "      <th>genre</th>\n",
       "      <th>lead_actor</th>\n",
       "    </tr>\n",
       "  </thead>\n",
       "  <tbody>\n",
       "    <tr>\n",
       "      <th>0</th>\n",
       "      <td>Movie</td>\n",
       "      <td>Dick Johnson Is Dead</td>\n",
       "      <td>Kirsten Johnson</td>\n",
       "      <td>United States</td>\n",
       "      <td>2020</td>\n",
       "      <td>PG-13</td>\n",
       "      <td>90 min</td>\n",
       "      <td>2021</td>\n",
       "      <td>9</td>\n",
       "      <td>25</td>\n",
       "      <td>Documentaries</td>\n",
       "      <td>Not mentioned</td>\n",
       "    </tr>\n",
       "    <tr>\n",
       "      <th>1</th>\n",
       "      <td>TV Show</td>\n",
       "      <td>Blood &amp; Water</td>\n",
       "      <td>Not mentioned</td>\n",
       "      <td>South Africa</td>\n",
       "      <td>2021</td>\n",
       "      <td>TV-MA</td>\n",
       "      <td>2 Seasons</td>\n",
       "      <td>2021</td>\n",
       "      <td>9</td>\n",
       "      <td>24</td>\n",
       "      <td>International TV Shows</td>\n",
       "      <td>Ama Qamata</td>\n",
       "    </tr>\n",
       "    <tr>\n",
       "      <th>2</th>\n",
       "      <td>TV Show</td>\n",
       "      <td>Ganglands</td>\n",
       "      <td>Julien Leclercq</td>\n",
       "      <td>United States</td>\n",
       "      <td>2021</td>\n",
       "      <td>TV-MA</td>\n",
       "      <td>1 Season</td>\n",
       "      <td>2021</td>\n",
       "      <td>9</td>\n",
       "      <td>24</td>\n",
       "      <td>Crime TV Shows</td>\n",
       "      <td>Sami Bouajila</td>\n",
       "    </tr>\n",
       "    <tr>\n",
       "      <th>3</th>\n",
       "      <td>TV Show</td>\n",
       "      <td>Jailbirds New Orleans</td>\n",
       "      <td>Not mentioned</td>\n",
       "      <td>United States</td>\n",
       "      <td>2021</td>\n",
       "      <td>TV-MA</td>\n",
       "      <td>1 Season</td>\n",
       "      <td>2021</td>\n",
       "      <td>9</td>\n",
       "      <td>24</td>\n",
       "      <td>Docuseries</td>\n",
       "      <td>Not mentioned</td>\n",
       "    </tr>\n",
       "    <tr>\n",
       "      <th>4</th>\n",
       "      <td>TV Show</td>\n",
       "      <td>Kota Factory</td>\n",
       "      <td>Not mentioned</td>\n",
       "      <td>India</td>\n",
       "      <td>2021</td>\n",
       "      <td>TV-MA</td>\n",
       "      <td>2 Seasons</td>\n",
       "      <td>2021</td>\n",
       "      <td>9</td>\n",
       "      <td>24</td>\n",
       "      <td>International TV Shows</td>\n",
       "      <td>Mayur More</td>\n",
       "    </tr>\n",
       "  </tbody>\n",
       "</table>\n",
       "</div>"
      ],
      "text/plain": [
       "      type                  title         director        country  \\\n",
       "0    Movie   Dick Johnson Is Dead  Kirsten Johnson  United States   \n",
       "1  TV Show          Blood & Water    Not mentioned   South Africa   \n",
       "2  TV Show              Ganglands  Julien Leclercq  United States   \n",
       "3  TV Show  Jailbirds New Orleans    Not mentioned  United States   \n",
       "4  TV Show           Kota Factory    Not mentioned          India   \n",
       "\n",
       "   release_year rating   duration  year  month  day                   genre  \\\n",
       "0          2020  PG-13     90 min  2021      9   25           Documentaries   \n",
       "1          2021  TV-MA  2 Seasons  2021      9   24  International TV Shows   \n",
       "2          2021  TV-MA   1 Season  2021      9   24          Crime TV Shows   \n",
       "3          2021  TV-MA   1 Season  2021      9   24              Docuseries   \n",
       "4          2021  TV-MA  2 Seasons  2021      9   24  International TV Shows   \n",
       "\n",
       "      lead_actor  \n",
       "0  Not mentioned  \n",
       "1     Ama Qamata  \n",
       "2  Sami Bouajila  \n",
       "3  Not mentioned  \n",
       "4     Mayur More  "
      ]
     },
     "execution_count": 48,
     "metadata": {},
     "output_type": "execute_result"
    }
   ],
   "source": [
    "df.head()"
   ]
  },
  {
   "cell_type": "markdown",
   "id": "d9123a69",
   "metadata": {},
   "source": [
    "### Writting this cleaned data into new created csv file.\n"
   ]
  },
  {
   "cell_type": "code",
   "execution_count": 52,
   "id": "5a5e9001",
   "metadata": {},
   "outputs": [],
   "source": [
    "df.to_csv(\"netflix_cleaned_data.csv\")"
   ]
  },
  {
   "cell_type": "code",
   "execution_count": 50,
   "id": "d90a620e",
   "metadata": {},
   "outputs": [
    {
     "name": "stdout",
     "output_type": "stream",
     "text": [
      "<class 'pandas.core.frame.DataFrame'>\n",
      "Index: 8804 entries, 0 to 8806\n",
      "Data columns (total 12 columns):\n",
      " #   Column        Non-Null Count  Dtype \n",
      "---  ------        --------------  ----- \n",
      " 0   type          8804 non-null   object\n",
      " 1   title         8804 non-null   object\n",
      " 2   director      8804 non-null   object\n",
      " 3   country       8804 non-null   object\n",
      " 4   release_year  8804 non-null   int64 \n",
      " 5   rating        8804 non-null   object\n",
      " 6   duration      8804 non-null   object\n",
      " 7   year          8804 non-null   int32 \n",
      " 8   month         8804 non-null   int32 \n",
      " 9   day           8804 non-null   int32 \n",
      " 10  genre         8804 non-null   object\n",
      " 11  lead_actor    8804 non-null   object\n",
      "dtypes: int32(3), int64(1), object(8)\n",
      "memory usage: 791.0+ KB\n"
     ]
    }
   ],
   "source": [
    "df.info()"
   ]
  }
 ],
 "metadata": {
  "kernelspec": {
   "display_name": "Python 3",
   "language": "python",
   "name": "python3"
  },
  "language_info": {
   "codemirror_mode": {
    "name": "ipython",
    "version": 3
   },
   "file_extension": ".py",
   "mimetype": "text/x-python",
   "name": "python",
   "nbconvert_exporter": "python",
   "pygments_lexer": "ipython3",
   "version": "3.12.5"
  }
 },
 "nbformat": 4,
 "nbformat_minor": 5
}
